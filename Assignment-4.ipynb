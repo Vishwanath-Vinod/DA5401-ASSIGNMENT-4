{
 "cells": [
  {
   "cell_type": "markdown",
   "id": "ff883689",
   "metadata": {},
   "source": [
    "# **DA5401 ASSIGNMENT-4** \n",
    "#### Author: *Vishwanath Vinod* (EE22B002)\n",
    "#### Date:    15th September 2025"
   ]
  },
  {
   "cell_type": "markdown",
   "id": "7372008b",
   "metadata": {},
   "source": [
    "#### **IMPORTS**"
   ]
  },
  {
   "cell_type": "code",
   "execution_count": 1,
   "id": "c8995985",
   "metadata": {},
   "outputs": [],
   "source": [
    "# install imbalanced learning library\n",
    "# ! pip install imbalanced-learn\n",
    "\n",
    "import os\n",
    "import ast\n",
    "import numpy as np\n",
    "import pandas as pd\n",
    "\n",
    "from sklearn.cluster import KMeans\n",
    "from sklearn.metrics import classification_report\n",
    "from sklearn.metrics import precision_recall_fscore_support\n",
    "from sklearn.linear_model import LogisticRegression\n",
    "from sklearn.model_selection import train_test_split\n",
    "import matplotlib.pyplot as plt\n",
    "from sklearn.preprocessing import StandardScaler\n",
    "from kneed import KneeLocator\n",
    "from sklearn.pipeline import make_pipeline\n",
    "from sklearn.mixture import GaussianMixture\n",
    "import matplotlib.patches as mpatches\n",
    "from imblearn.under_sampling import ClusterCentroids\n",
    "import seaborn as sns\n",
    "sns.set_style('dark')"
   ]
  },
  {
   "cell_type": "markdown",
   "id": "4df38cc7",
   "metadata": {},
   "source": [
    "## **A. DATA EXPLORATION AND BASELINE MODEL** "
   ]
  },
  {
   "cell_type": "markdown",
   "id": "0f81eb74",
   "metadata": {},
   "source": [
    "### **A.1 EXPLORATORY DATA ANALYSIS**\n",
    "\n",
    "1. Load and analyze the creditcard.csv file as the dataset.\n",
    "2. Print the class distribution of the data and visualize it via plots."
   ]
  },
  {
   "cell_type": "code",
   "execution_count": 2,
   "id": "7492e9a4",
   "metadata": {},
   "outputs": [
    {
     "name": "stdout",
     "output_type": "stream",
     "text": [
      "Dataset shape: (284807, 31)\n",
      "Columns: ['Time', 'V1', 'V2', 'V3', 'V4', 'V5', 'V6', 'V7', 'V8', 'V9', 'V10', 'V11', 'V12', 'V13', 'V14', 'V15', 'V16', 'V17', 'V18', 'V19', 'V20', 'V21', 'V22', 'V23', 'V24', 'V25', 'V26', 'V27', 'V28', 'Amount', 'Class']\n"
     ]
    },
    {
     "data": {
      "text/html": [
       "<div>\n",
       "<style scoped>\n",
       "    .dataframe tbody tr th:only-of-type {\n",
       "        vertical-align: middle;\n",
       "    }\n",
       "\n",
       "    .dataframe tbody tr th {\n",
       "        vertical-align: top;\n",
       "    }\n",
       "\n",
       "    .dataframe thead th {\n",
       "        text-align: right;\n",
       "    }\n",
       "</style>\n",
       "<table border=\"1\" class=\"dataframe\">\n",
       "  <thead>\n",
       "    <tr style=\"text-align: right;\">\n",
       "      <th></th>\n",
       "      <th>Time</th>\n",
       "      <th>V1</th>\n",
       "      <th>V2</th>\n",
       "      <th>V3</th>\n",
       "      <th>V4</th>\n",
       "      <th>V5</th>\n",
       "      <th>V6</th>\n",
       "      <th>V7</th>\n",
       "      <th>V8</th>\n",
       "      <th>V9</th>\n",
       "      <th>...</th>\n",
       "      <th>V21</th>\n",
       "      <th>V22</th>\n",
       "      <th>V23</th>\n",
       "      <th>V24</th>\n",
       "      <th>V25</th>\n",
       "      <th>V26</th>\n",
       "      <th>V27</th>\n",
       "      <th>V28</th>\n",
       "      <th>Amount</th>\n",
       "      <th>Class</th>\n",
       "    </tr>\n",
       "  </thead>\n",
       "  <tbody>\n",
       "    <tr>\n",
       "      <th>0</th>\n",
       "      <td>-1.996583</td>\n",
       "      <td>-1.359807</td>\n",
       "      <td>-0.072781</td>\n",
       "      <td>2.536347</td>\n",
       "      <td>1.378155</td>\n",
       "      <td>-0.338321</td>\n",
       "      <td>0.462388</td>\n",
       "      <td>0.239599</td>\n",
       "      <td>0.098698</td>\n",
       "      <td>0.363787</td>\n",
       "      <td>...</td>\n",
       "      <td>-0.018307</td>\n",
       "      <td>0.277838</td>\n",
       "      <td>-0.110474</td>\n",
       "      <td>0.066928</td>\n",
       "      <td>0.128539</td>\n",
       "      <td>-0.189115</td>\n",
       "      <td>0.133558</td>\n",
       "      <td>-0.021053</td>\n",
       "      <td>0.244964</td>\n",
       "      <td>0</td>\n",
       "    </tr>\n",
       "    <tr>\n",
       "      <th>1</th>\n",
       "      <td>-1.996583</td>\n",
       "      <td>1.191857</td>\n",
       "      <td>0.266151</td>\n",
       "      <td>0.166480</td>\n",
       "      <td>0.448154</td>\n",
       "      <td>0.060018</td>\n",
       "      <td>-0.082361</td>\n",
       "      <td>-0.078803</td>\n",
       "      <td>0.085102</td>\n",
       "      <td>-0.255425</td>\n",
       "      <td>...</td>\n",
       "      <td>-0.225775</td>\n",
       "      <td>-0.638672</td>\n",
       "      <td>0.101288</td>\n",
       "      <td>-0.339846</td>\n",
       "      <td>0.167170</td>\n",
       "      <td>0.125895</td>\n",
       "      <td>-0.008983</td>\n",
       "      <td>0.014724</td>\n",
       "      <td>-0.342475</td>\n",
       "      <td>0</td>\n",
       "    </tr>\n",
       "    <tr>\n",
       "      <th>2</th>\n",
       "      <td>-1.996562</td>\n",
       "      <td>-1.358354</td>\n",
       "      <td>-1.340163</td>\n",
       "      <td>1.773209</td>\n",
       "      <td>0.379780</td>\n",
       "      <td>-0.503198</td>\n",
       "      <td>1.800499</td>\n",
       "      <td>0.791461</td>\n",
       "      <td>0.247676</td>\n",
       "      <td>-1.514654</td>\n",
       "      <td>...</td>\n",
       "      <td>0.247998</td>\n",
       "      <td>0.771679</td>\n",
       "      <td>0.909412</td>\n",
       "      <td>-0.689281</td>\n",
       "      <td>-0.327642</td>\n",
       "      <td>-0.139097</td>\n",
       "      <td>-0.055353</td>\n",
       "      <td>-0.059752</td>\n",
       "      <td>1.160686</td>\n",
       "      <td>0</td>\n",
       "    </tr>\n",
       "    <tr>\n",
       "      <th>3</th>\n",
       "      <td>-1.996562</td>\n",
       "      <td>-0.966272</td>\n",
       "      <td>-0.185226</td>\n",
       "      <td>1.792993</td>\n",
       "      <td>-0.863291</td>\n",
       "      <td>-0.010309</td>\n",
       "      <td>1.247203</td>\n",
       "      <td>0.237609</td>\n",
       "      <td>0.377436</td>\n",
       "      <td>-1.387024</td>\n",
       "      <td>...</td>\n",
       "      <td>-0.108300</td>\n",
       "      <td>0.005274</td>\n",
       "      <td>-0.190321</td>\n",
       "      <td>-1.175575</td>\n",
       "      <td>0.647376</td>\n",
       "      <td>-0.221929</td>\n",
       "      <td>0.062723</td>\n",
       "      <td>0.061458</td>\n",
       "      <td>0.140534</td>\n",
       "      <td>0</td>\n",
       "    </tr>\n",
       "    <tr>\n",
       "      <th>4</th>\n",
       "      <td>-1.996541</td>\n",
       "      <td>-1.158233</td>\n",
       "      <td>0.877737</td>\n",
       "      <td>1.548718</td>\n",
       "      <td>0.403034</td>\n",
       "      <td>-0.407193</td>\n",
       "      <td>0.095921</td>\n",
       "      <td>0.592941</td>\n",
       "      <td>-0.270533</td>\n",
       "      <td>0.817739</td>\n",
       "      <td>...</td>\n",
       "      <td>-0.009431</td>\n",
       "      <td>0.798278</td>\n",
       "      <td>-0.137458</td>\n",
       "      <td>0.141267</td>\n",
       "      <td>-0.206010</td>\n",
       "      <td>0.502292</td>\n",
       "      <td>0.219422</td>\n",
       "      <td>0.215153</td>\n",
       "      <td>-0.073403</td>\n",
       "      <td>0</td>\n",
       "    </tr>\n",
       "    <tr>\n",
       "      <th>5</th>\n",
       "      <td>-1.996541</td>\n",
       "      <td>-0.425966</td>\n",
       "      <td>0.960523</td>\n",
       "      <td>1.141109</td>\n",
       "      <td>-0.168252</td>\n",
       "      <td>0.420987</td>\n",
       "      <td>-0.029728</td>\n",
       "      <td>0.476201</td>\n",
       "      <td>0.260314</td>\n",
       "      <td>-0.568671</td>\n",
       "      <td>...</td>\n",
       "      <td>-0.208254</td>\n",
       "      <td>-0.559825</td>\n",
       "      <td>-0.026398</td>\n",
       "      <td>-0.371427</td>\n",
       "      <td>-0.232794</td>\n",
       "      <td>0.105915</td>\n",
       "      <td>0.253844</td>\n",
       "      <td>0.081080</td>\n",
       "      <td>-0.338556</td>\n",
       "      <td>0</td>\n",
       "    </tr>\n",
       "    <tr>\n",
       "      <th>6</th>\n",
       "      <td>-1.996499</td>\n",
       "      <td>1.229658</td>\n",
       "      <td>0.141004</td>\n",
       "      <td>0.045371</td>\n",
       "      <td>1.202613</td>\n",
       "      <td>0.191881</td>\n",
       "      <td>0.272708</td>\n",
       "      <td>-0.005159</td>\n",
       "      <td>0.081213</td>\n",
       "      <td>0.464960</td>\n",
       "      <td>...</td>\n",
       "      <td>-0.167716</td>\n",
       "      <td>-0.270710</td>\n",
       "      <td>-0.154104</td>\n",
       "      <td>-0.780055</td>\n",
       "      <td>0.750137</td>\n",
       "      <td>-0.257237</td>\n",
       "      <td>0.034507</td>\n",
       "      <td>0.005168</td>\n",
       "      <td>-0.333279</td>\n",
       "      <td>0</td>\n",
       "    </tr>\n",
       "    <tr>\n",
       "      <th>7</th>\n",
       "      <td>-1.996436</td>\n",
       "      <td>-0.644269</td>\n",
       "      <td>1.417964</td>\n",
       "      <td>1.074380</td>\n",
       "      <td>-0.492199</td>\n",
       "      <td>0.948934</td>\n",
       "      <td>0.428118</td>\n",
       "      <td>1.120631</td>\n",
       "      <td>-3.807864</td>\n",
       "      <td>0.615375</td>\n",
       "      <td>...</td>\n",
       "      <td>1.943465</td>\n",
       "      <td>-1.015455</td>\n",
       "      <td>0.057504</td>\n",
       "      <td>-0.649709</td>\n",
       "      <td>-0.415267</td>\n",
       "      <td>-0.051634</td>\n",
       "      <td>-1.206921</td>\n",
       "      <td>-1.085339</td>\n",
       "      <td>-0.190107</td>\n",
       "      <td>0</td>\n",
       "    </tr>\n",
       "    <tr>\n",
       "      <th>8</th>\n",
       "      <td>-1.996436</td>\n",
       "      <td>-0.894286</td>\n",
       "      <td>0.286157</td>\n",
       "      <td>-0.113192</td>\n",
       "      <td>-0.271526</td>\n",
       "      <td>2.669599</td>\n",
       "      <td>3.721818</td>\n",
       "      <td>0.370145</td>\n",
       "      <td>0.851084</td>\n",
       "      <td>-0.392048</td>\n",
       "      <td>...</td>\n",
       "      <td>-0.073425</td>\n",
       "      <td>-0.268092</td>\n",
       "      <td>-0.204233</td>\n",
       "      <td>1.011592</td>\n",
       "      <td>0.373205</td>\n",
       "      <td>-0.384157</td>\n",
       "      <td>0.011747</td>\n",
       "      <td>0.142404</td>\n",
       "      <td>0.019392</td>\n",
       "      <td>0</td>\n",
       "    </tr>\n",
       "    <tr>\n",
       "      <th>9</th>\n",
       "      <td>-1.996394</td>\n",
       "      <td>-0.338262</td>\n",
       "      <td>1.119593</td>\n",
       "      <td>1.044367</td>\n",
       "      <td>-0.222187</td>\n",
       "      <td>0.499361</td>\n",
       "      <td>-0.246761</td>\n",
       "      <td>0.651583</td>\n",
       "      <td>0.069539</td>\n",
       "      <td>-0.736727</td>\n",
       "      <td>...</td>\n",
       "      <td>-0.246914</td>\n",
       "      <td>-0.633753</td>\n",
       "      <td>-0.120794</td>\n",
       "      <td>-0.385050</td>\n",
       "      <td>-0.069733</td>\n",
       "      <td>0.094199</td>\n",
       "      <td>0.246219</td>\n",
       "      <td>0.083076</td>\n",
       "      <td>-0.338516</td>\n",
       "      <td>0</td>\n",
       "    </tr>\n",
       "  </tbody>\n",
       "</table>\n",
       "<p>10 rows × 31 columns</p>\n",
       "</div>"
      ],
      "text/plain": [
       "       Time        V1        V2        V3        V4        V5        V6  \\\n",
       "0 -1.996583 -1.359807 -0.072781  2.536347  1.378155 -0.338321  0.462388   \n",
       "1 -1.996583  1.191857  0.266151  0.166480  0.448154  0.060018 -0.082361   \n",
       "2 -1.996562 -1.358354 -1.340163  1.773209  0.379780 -0.503198  1.800499   \n",
       "3 -1.996562 -0.966272 -0.185226  1.792993 -0.863291 -0.010309  1.247203   \n",
       "4 -1.996541 -1.158233  0.877737  1.548718  0.403034 -0.407193  0.095921   \n",
       "5 -1.996541 -0.425966  0.960523  1.141109 -0.168252  0.420987 -0.029728   \n",
       "6 -1.996499  1.229658  0.141004  0.045371  1.202613  0.191881  0.272708   \n",
       "7 -1.996436 -0.644269  1.417964  1.074380 -0.492199  0.948934  0.428118   \n",
       "8 -1.996436 -0.894286  0.286157 -0.113192 -0.271526  2.669599  3.721818   \n",
       "9 -1.996394 -0.338262  1.119593  1.044367 -0.222187  0.499361 -0.246761   \n",
       "\n",
       "         V7        V8        V9  ...       V21       V22       V23       V24  \\\n",
       "0  0.239599  0.098698  0.363787  ... -0.018307  0.277838 -0.110474  0.066928   \n",
       "1 -0.078803  0.085102 -0.255425  ... -0.225775 -0.638672  0.101288 -0.339846   \n",
       "2  0.791461  0.247676 -1.514654  ...  0.247998  0.771679  0.909412 -0.689281   \n",
       "3  0.237609  0.377436 -1.387024  ... -0.108300  0.005274 -0.190321 -1.175575   \n",
       "4  0.592941 -0.270533  0.817739  ... -0.009431  0.798278 -0.137458  0.141267   \n",
       "5  0.476201  0.260314 -0.568671  ... -0.208254 -0.559825 -0.026398 -0.371427   \n",
       "6 -0.005159  0.081213  0.464960  ... -0.167716 -0.270710 -0.154104 -0.780055   \n",
       "7  1.120631 -3.807864  0.615375  ...  1.943465 -1.015455  0.057504 -0.649709   \n",
       "8  0.370145  0.851084 -0.392048  ... -0.073425 -0.268092 -0.204233  1.011592   \n",
       "9  0.651583  0.069539 -0.736727  ... -0.246914 -0.633753 -0.120794 -0.385050   \n",
       "\n",
       "        V25       V26       V27       V28    Amount  Class  \n",
       "0  0.128539 -0.189115  0.133558 -0.021053  0.244964      0  \n",
       "1  0.167170  0.125895 -0.008983  0.014724 -0.342475      0  \n",
       "2 -0.327642 -0.139097 -0.055353 -0.059752  1.160686      0  \n",
       "3  0.647376 -0.221929  0.062723  0.061458  0.140534      0  \n",
       "4 -0.206010  0.502292  0.219422  0.215153 -0.073403      0  \n",
       "5 -0.232794  0.105915  0.253844  0.081080 -0.338556      0  \n",
       "6  0.750137 -0.257237  0.034507  0.005168 -0.333279      0  \n",
       "7 -0.415267 -0.051634 -1.206921 -1.085339 -0.190107      0  \n",
       "8  0.373205 -0.384157  0.011747  0.142404  0.019392      0  \n",
       "9 -0.069733  0.094199  0.246219  0.083076 -0.338516      0  \n",
       "\n",
       "[10 rows x 31 columns]"
      ]
     },
     "execution_count": 2,
     "metadata": {},
     "output_type": "execute_result"
    }
   ],
   "source": [
    "# Read input dataset and visualize\n",
    "df = pd.read_csv('./creditcard.csv')\n",
    "print(\"Dataset shape: {}\".format(df.shape))\n",
    "print(\"Columns: {}\".format(df.columns.tolist()))\n",
    "# Standardize the 'Amount' and 'Time' column\n",
    "df['Amount'] = StandardScaler().fit_transform(df[['Amount']])\n",
    "df['Time'] = StandardScaler().fit_transform(df[['Time']])\n",
    "# visualize some entries of the dataset\n",
    "df[:10]"
   ]
  },
  {
   "cell_type": "markdown",
   "id": "5bb5b62d",
   "metadata": {},
   "source": [
    "#### **ANALYZE CLASS IMBALANCE**"
   ]
  },
  {
   "cell_type": "code",
   "execution_count": 3,
   "id": "16e8bfd4",
   "metadata": {},
   "outputs": [
    {
     "name": "stdout",
     "output_type": "stream",
     "text": [
      "\n",
      "Class Distribution:\n",
      "Count of Class 0: 284315\n",
      "Count of Class 1: 492\n",
      "Fraud percentage: 0.17%\n"
     ]
    }
   ],
   "source": [
    "print(\"\\nClass Distribution:\")\n",
    "class_counts = np.unique(df['Class'], return_counts=True)\n",
    "for i in range(len(class_counts[0])):\n",
    "    print('Count of Class {}: {}'.format(class_counts[0][i], class_counts[1][i]))\n",
    "print(f\"Fraud percentage: {class_counts[1][1]/len(df)*100:.2f}%\")"
   ]
  },
  {
   "cell_type": "code",
   "execution_count": 4,
   "id": "ec606643",
   "metadata": {},
   "outputs": [
    {
     "data": {
      "image/png": "[encoded data removed]",
      "text/plain": [
       "<Figure size 1000x400 with 2 Axes>"
      ]
     },
     "metadata": {},
     "output_type": "display_data"
    }
   ],
   "source": [
    "# Use colorblind-friendly palette\n",
    "colors = sns.color_palette(\"colorblind\")[:2]  # first two colors\n",
    "\n",
    "fig, axes = plt.subplots(1, 2, figsize=(10, 4))\n",
    "\n",
    "# Pie chart\n",
    "axes[0].pie(class_counts[1], labels=['Normal', 'Fraud'], colors=colors, autopct='%1.2f%%')\n",
    "axes[0].set_title('Class Distribution')\n",
    "\n",
    "# Bar chart\n",
    "bars = axes[1].bar(['Normal', 'Fraud'], class_counts[1], color=colors)\n",
    "axes[1].set_title('Transaction Counts')\n",
    "axes[1].set_xlabel('Class')\n",
    "axes[1].set_ylabel('Count')\n",
    "axes[1].set_yscale('log')\n",
    "axes[1].set_xticks([0, 1])\n",
    "axes[1].set_xticklabels(['Normal', 'Fraud'])\n",
    "\n",
    "# Add a single legend at the bottom\n",
    "fig.legend(bars, ['Normal', 'Fraud'], title=\"Class\", loc='lower center', ncol=2)\n",
    "\n",
    "plt.tight_layout(rect=[0, 0.1, 1, 1])  # leave space at the bottom for legend\n",
    "plt.show()\n"
   ]
  },
  {
   "cell_type": "markdown",
   "id": "aed017f9",
   "metadata": {},
   "source": [
    "### **BASELINE MODEL**\n",
    "\n",
    "1. Split the original dataset into training and testing sets ensuring the test set retains its original imbalance.\n",
    "2. Train a Logistic Regression Classifier on this imbalanced training data.\n",
    "3. Evaluate the performance on the test data via a classification report."
   ]
  },
  {
   "cell_type": "markdown",
   "id": "13885a2c",
   "metadata": {},
   "source": [
    "**TRAIN-TEST SPLIT**"
   ]
  },
  {
   "cell_type": "code",
   "execution_count": 5,
   "id": "8517ecaf",
   "metadata": {},
   "outputs": [
    {
     "name": "stdout",
     "output_type": "stream",
     "text": [
      "\n",
      "Train set: (227845, 30), Fraud: 394/227845 (0.17%)\n",
      "Test set: (56962, 30), Fraud: 98/56962 (0.17%)\n"
     ]
    }
   ],
   "source": [
    "X = df.drop('Class', axis=1)\n",
    "X = StandardScaler().fit_transform(X)\n",
    "y = df['Class']\n",
    "\n",
    "# Split data - use stratified sampling to maintain original imbalance in test set\n",
    "X_train, X_test, y_train, y_test = train_test_split(X, y, test_size=0.2, random_state=42,stratify=y)\n",
    "\n",
    "print(f\"\\nTrain set: {X_train.shape}, Fraud: {sum(y_train)}/{len(y_train)} ({sum(y_train)/len(y_train)*100:.2f}%)\")\n",
    "print(f\"Test set: {X_test.shape}, Fraud: {sum(y_test)}/{len(y_test)} ({sum(y_test)/len(y_test)*100:.2f}%)\")"
   ]
  },
  {
   "cell_type": "markdown",
   "id": "f57a6992",
   "metadata": {},
   "source": [
    "**LOGISTIC REGRESSION PERFORMANCE**"
   ]
  },
  {
   "cell_type": "code",
   "execution_count": 22,
   "id": "8b225170",
   "metadata": {},
   "outputs": [
    {
     "name": "stdout",
     "output_type": "stream",
     "text": [
      "\n",
      "Model 1 (Baseline) Performance:\n",
      "              precision    recall  f1-score   support\n",
      "\n",
      "           0       1.00      1.00      1.00     56864\n",
      "           1       0.83      0.64      0.72        98\n",
      "\n",
      "    accuracy                           1.00     56962\n",
      "   macro avg       0.91      0.82      0.86     56962\n",
      "weighted avg       1.00      1.00      1.00     56962\n",
      "\n"
     ]
    }
   ],
   "source": [
    "model1 = LogisticRegression(random_state=42, max_iter=5000)\n",
    "model1.fit(X_train, y_train)\n",
    "y_pred1 = model1.predict(X_test)\n",
    "\n",
    "print(\"\\nModel 1 (Baseline) Performance:\")\n",
    "print(classification_report(y_test, y_pred1))"
   ]
  },
  {
   "cell_type": "code",
   "execution_count": 23,
   "id": "3df63769",
   "metadata": {},
   "outputs": [
    {
     "name": "stdout",
     "output_type": "stream",
     "text": [
      "{'Precision': 0.8289473684210527, 'Recall': 0.6428571428571429, 'F1': 0.7241379310344828}\n"
     ]
    }
   ],
   "source": [
    "precision1, recall1, f1_1, _ = precision_recall_fscore_support(y_test, y_pred1, labels=[1], average=None)\n",
    "baseline_metrics = {'Precision': precision1[0], 'Recall': recall1[0], 'F1': f1_1[0]}\n",
    "print(baseline_metrics)"
   ]
  },
  {
   "cell_type": "markdown",
   "id": "076c40b0",
   "metadata": {},
   "source": [
    "## **B. GAUSSIAN MIXTURE MODEL FOR SYNTHETIC SAMPLING**"
   ]
  },
  {
   "cell_type": "markdown",
   "id": "639f1f73",
   "metadata": {},
   "source": [
    "#### **B.1 Why GMM?**"
   ]
  },
  {
   "cell_type": "markdown",
   "id": "76ebddf8",
   "metadata": {},
   "source": [
    "- **SMOTE (Synthetic Minority Over-sampling Technique)** \n",
    "1. Assumes that the minority class distribution is locally linear and continuous.\n",
    "2. Find the k-nearest neighbours for each minority sample.\n",
    "3. Creates new samples by interpolating between existing minority class samples and their nearest neighbors. \n",
    "4. In overlapping and boundary regions, SMOTE may generate noisy samples and thus fail to capture the correct data distribution.\n",
    "\n",
    "- **GMM (Gaussian Mixture Model)-based sampling**\n",
    "1. Gaussian Mixture Modelling (GMM) is a probabilistic model that represents a dataset as a combination (mixture) of several Gaussian distributions, each capturing a cluster or subgroup within the data. Thus it fits the minority class data using a probabilistic model composed of multiple Gaussian distributions.\n",
    "2. It helps capture the underlying data distribution accurately.\n",
    "3.  Each component models a potential cluster within the minority class from which new samples can be drawn.\n",
    "4. The shape and spread of each cluster is captured through covariance modelling.\n",
    "\n"
   ]
  },
  {
   "cell_type": "markdown",
   "id": "7fdace6c",
   "metadata": {},
   "source": [
    "**Why GMM is theoretically better**\n",
    "1. **Capturing complex structures:**  \n",
    "   When the minority class exhibits complex shapes or multiple sub-groups in feature space, SMOTE may oversimplify by forcing linear interpolations between neighbors. GMM, however, explicitly learns a density function that reflects these structures, leading to synthetic samples that are more faithful to the original data distribution and less likely to introduce noise or class overlap.\n",
    "\n",
    "2. **Handling overlapping/boundary regions:**  \n",
    "   In overlapping and boundary regions, SMOTE may generate noisy or misleading samples since it does not model the underlying probability distribution. GMM instead accounts for uncertainty through its probabilistic formulation, which reduces the risk of creating unrealistic synthetic points.\n",
    "\n",
    "3. **Probabilistic cluster assignment and flexible cluster shapes:**  \n",
    "   GMM assigns data points to clusters probabilistically, allowing samples to belong partially to multiple components rather than being forced into a single cluster. This soft assignment enables better modeling of ambiguous cases. Moreover, GMM supports ellipsoidal clusters of varying orientations and shapes, making it more flexible in capturing the true geometry of the minority class.\n"
   ]
  },
  {
   "cell_type": "markdown",
   "id": "9a997d42",
   "metadata": {},
   "source": [
    "#### **B.2 Optimal Number of Components in GMM**\n",
    "\n",
    "- To determine the optimal number of components in a Gaussian Mixture Model, model selection criteria such as the **Akaike Information Criterion (AIC)** and the **Bayesian Information Criterion (BIC)** are commonly used. These criteria trade off goodness of fit against model complexity, penalizing over-parameterization while favoring models that best explain the data.\n",
    "- But BIC penalizes model complexity more heavily thus preferring simpler models.\n",
    "- For synthetic sampling of the minority class, **BIC is the better metric** since it favors simpler models and reduces overfitting on limited data (minority class has very few samples).\n"
   ]
  },
  {
   "cell_type": "markdown",
   "id": "f52cb2a4",
   "metadata": {},
   "source": [
    "**BIC Plot for Optimal Number of Components in GMM**"
   ]
  },
  {
   "cell_type": "code",
   "execution_count": 7,
   "id": "0d576320",
   "metadata": {},
   "outputs": [
    {
     "data": {
      "image/png": "[encoded data removed]",
      "text/plain": [
       "<Figure size 640x480 with 1 Axes>"
      ]
     },
     "metadata": {},
     "output_type": "display_data"
    },
    {
     "name": "stdout",
     "output_type": "stream",
     "text": [
      "Optimal number of components (by BIC): 3\n"
     ]
    }
   ],
   "source": [
    "X_minority_train = X_train[y_train == 1]\n",
    "n_components = np.arange(1, 31)\n",
    "models = [GaussianMixture(n, covariance_type='full', random_state=42).fit(X_minority_train)\n",
    "          for n in n_components]\n",
    "bics = [m.bic(X_minority_train) for m in models]\n",
    "best_n = n_components[np.argmin(bics)]\n",
    "best_bic = np.min(bics)\n",
    "\n",
    "# Plot BIC curve\n",
    "plt.plot(n_components, bics, label='BIC', marker='o')\n",
    "plt.axvline(best_n, color='r', linestyle='--', label=f'Best n={best_n}')\n",
    "plt.scatter(best_n, best_bic, color='red', zorder=5)\n",
    "plt.xlabel('Number of Components')\n",
    "plt.ylabel('BIC')\n",
    "plt.title('BIC Plot for Optimal Number of Components in GMM')\n",
    "plt.legend()\n",
    "plt.show()\n",
    "\n",
    "print(\"Optimal number of components (by BIC):\", best_n)"
   ]
  },
  {
   "cell_type": "markdown",
   "id": "06637830",
   "metadata": {},
   "source": [
    "**OBSERVATION**\n",
    "\n",
    "The optimal number of components in GMM is 3."
   ]
  },
  {
   "cell_type": "markdown",
   "id": "e71e4aa1",
   "metadata": {},
   "source": [
    "**Fitting GMM for the minority class with 3 components**"
   ]
  },
  {
   "cell_type": "code",
   "execution_count": 8,
   "id": "a46a20a5",
   "metadata": {},
   "outputs": [
    {
     "name": "stdout",
     "output_type": "stream",
     "text": [
      "True\n"
     ]
    }
   ],
   "source": [
    "gmm = GaussianMixture(n_components=3).fit(X_minority_train)\n",
    "labels = gmm.predict(X_minority_train)\n",
    "print(gmm.converged_)"
   ]
  },
  {
   "cell_type": "markdown",
   "id": "287fa320",
   "metadata": {},
   "source": [
    "#### **B.3 Synthetic Data Generation -GMM**"
   ]
  },
  {
   "cell_type": "markdown",
   "id": "d461413a",
   "metadata": {},
   "source": [
    "**How synthetic data generation works for GMM?**\n",
    "\n",
    "GMM represents data as a mixture of multiple Gaussian distributions (components). To sample:\n",
    "\n",
    "- Pick a component: Randomly choose one of the Gaussian components based on their weights\n",
    "- Sample from it: Generate a point from that chosen Gaussian using its mean and covariance\n",
    "\n",
    "Its essentially picking which \"cluster\" to sample from, then drawing a random point from that cluster's distribution."
   ]
  },
  {
   "cell_type": "markdown",
   "id": "06cc32c0",
   "metadata": {},
   "source": [
    "**NUMBER OF SYNTHETIC DATA POINTS**\n",
    "\n",
    "We need to balance the dataset so we need to generate samples until majority class and minority class have same number."
   ]
  },
  {
   "cell_type": "code",
   "execution_count": 9,
   "id": "3e822811",
   "metadata": {},
   "outputs": [
    {
     "name": "stdout",
     "output_type": "stream",
     "text": [
      "Number of Synthetic Samples to be generated: 227057\n"
     ]
    }
   ],
   "source": [
    "X_majority_train = X_train[y_train==0]\n",
    "num_samples_gmm = X_majority_train.shape[0] - X_minority_train.shape[0]\n",
    "print(f\"Number of Synthetic Samples to be generated: {num_samples_gmm}\")"
   ]
  },
  {
   "cell_type": "markdown",
   "id": "d1476922",
   "metadata": {},
   "source": [
    "**GENERATING AND COMBINING SYNTHETIC DATA**\n",
    "\n",
    "Generate 227057 samples from the minority class to balance the dataset."
   ]
  },
  {
   "cell_type": "code",
   "execution_count": 10,
   "id": "06ad88f1",
   "metadata": {},
   "outputs": [
    {
     "name": "stdout",
     "output_type": "stream",
     "text": [
      "\n",
      "Class distribution after balancing: (454902, 30), Fraud: 227451/454902 (50.00%)\n"
     ]
    }
   ],
   "source": [
    "#Generaate Synthetic Data\n",
    "data_new,_ = gmm.sample(num_samples_gmm)\n",
    "label_new =  np.ones(num_samples_gmm, dtype=int) # Minority class\n",
    "\n",
    "# Combine synthetic data with the original training set\n",
    "X_train_gmm = np.vstack((X_train, data_new))\n",
    "y_train_gmm = np.hstack((y_train, label_new))\n",
    "\n",
    "# Display class statistics after balancing\n",
    "print(f\"\\nClass distribution after balancing: {X_train_gmm.shape}, Fraud: {sum(y_train_gmm)}/{len(y_train_gmm)} ({sum(y_train_gmm)/len(y_train_gmm)*100:.2f}%)\")"
   ]
  },
  {
   "cell_type": "markdown",
   "id": "58d783eb",
   "metadata": {},
   "source": [
    "#### **B.4 Rebalancing with CBU**\n",
    "\n",
    "CBU (Clustering Based Undersampling) attempts to balance classes by:\n",
    "\n",
    "- Clustering majority class to find sub-groups\n",
    "- Undersampling within each cluster to preserve local structure\n",
    "\n",
    "This method helps preserve majority class distribution while reducing size of the class."
   ]
  },
  {
   "cell_type": "markdown",
   "id": "f389fb49",
   "metadata": {},
   "source": [
    "**ELBOW METHOD FOR NUMBER OF CLUSTERS OF MAJORITY GROUP**"
   ]
  },
  {
   "cell_type": "code",
   "execution_count": 12,
   "id": "d4167331",
   "metadata": {},
   "outputs": [
    {
     "name": "stdout",
     "output_type": "stream",
     "text": [
      "Optimal Number Of Clusters of Majority Group: 13\n"
     ]
    },
    {
     "data": {
      "image/png": "[encoded data removed]",
      "text/plain": [
       "<Figure size 600x400 with 1 Axes>"
      ]
     },
     "metadata": {},
     "output_type": "display_data"
    }
   ],
   "source": [
    "# majority data\n",
    "majority_samples = X_train[y_train == 0]\n",
    "\n",
    "inertia = []\n",
    "K_range = range(1, 30)  # try k=1 to 14\n",
    "\n",
    "for k in K_range:\n",
    "    kmeans = KMeans(n_clusters=k, random_state=42)\n",
    "    kmeans.fit(majority_samples)\n",
    "    inertia.append(kmeans.inertia_)\n",
    "\n",
    "# KneeLocator for Optimal Number of Clusters\n",
    "knee_locator = KneeLocator(K_range, inertia, curve='convex', direction='decreasing')\n",
    "optimal_k = knee_locator.knee\n",
    "\n",
    "print(f\"Optimal Number Of Clusters of Majority Group: {optimal_k}\")\n",
    "# plot elbow curve\n",
    "plt.figure(figsize=(6,4))\n",
    "plt.plot(K_range, inertia, 'bx-')\n",
    "plt.xlabel('Number of clusters')\n",
    "plt.ylabel('k-Means Inertia')\n",
    "plt.title('Elbow Method')\n",
    "plt.show()"
   ]
  },
  {
   "cell_type": "markdown",
   "id": "be3fd2d6",
   "metadata": {},
   "source": [
    "**CBU BASED RESAMPLING OF MAJORITY TO DESIRED POPULATION**\n",
    "\n",
    "Here we reduce the majority  to thrice the size of minority class. \n",
    "\n",
    "This is a heuristic choice which is backed by the fact that majority class is lot more in number than the minority class."
   ]
  },
  {
   "cell_type": "code",
   "execution_count": 27,
   "id": "c2320e87",
   "metadata": {},
   "outputs": [
    {
     "name": "stdout",
     "output_type": "stream",
     "text": [
      "After CBU: majority=788, minority=394\n"
     ]
    }
   ],
   "source": [
    "n_minority = np.sum(y_train == 1)\n",
    "n_majority_target = 2 * n_minority   # keep majority = 2 × minority\n",
    "\n",
    "kmeans = KMeans(n_clusters=13, random_state=42)\n",
    "cbu = ClusterCentroids(\n",
    "    estimator=kmeans,\n",
    "    sampling_strategy={0: n_majority_target}, \n",
    ")\n",
    "X_train_cbu, y_train_cbu = cbu.fit_resample(X_train, y_train)\n",
    "\n",
    "# After CBU stats\n",
    "n_minority = np.sum(y_train_cbu == 1)\n",
    "n_majority = np.sum(y_train_cbu == 0)\n",
    "print(f\"After CBU: majority={n_majority}, minority={n_minority}\")"
   ]
  },
  {
   "cell_type": "markdown",
   "id": "e5bd2769",
   "metadata": {},
   "source": [
    "**GMM BASED SYNTHETIC DATA GENERATION**"
   ]
  },
  {
   "cell_type": "code",
   "execution_count": 28,
   "id": "187044ce",
   "metadata": {},
   "outputs": [
    {
     "name": "stdout",
     "output_type": "stream",
     "text": [
      "\n",
      "Class distribution after balancing: (1576, 30), Fraud: 788/1576 (50.00%)\n"
     ]
    }
   ],
   "source": [
    "#Generaate Synthetic Data\n",
    "gmm_cbu = GaussianMixture(n_components=20).fit(X_train_cbu)\n",
    "labels = gmm_cbu.predict(X_train_cbu)\n",
    "num_samples_cbu = 1*n_minority\n",
    "data_new,_ = gmm_cbu.sample(num_samples_cbu)\n",
    "label_new =  np.ones(num_samples_cbu, dtype=int) # Minority class\n",
    "\n",
    "# Combine synthetic data with the original training set\n",
    "X_train_cbu_gmm = np.vstack((X_train_cbu, data_new))\n",
    "y_train_cbu_gmm = np.hstack((y_train_cbu, label_new))\n",
    "\n",
    "# Display class statistics after balancing\n",
    "print(f\"\\nClass distribution after balancing: {X_train_cbu_gmm.shape}, Fraud: {sum(y_train_cbu_gmm)}/{len(y_train_cbu_gmm)} ({sum(y_train_cbu_gmm)/len(y_train_cbu_gmm)*100:.2f}%)\")"
   ]
  },
  {
   "cell_type": "markdown",
   "id": "69b53eff",
   "metadata": {},
   "source": [
    "## **C. PERFORMANCE EVALUATION AND COMPARISON**\n",
    "\n",
    "Perform logistic regression on the GMM-balanced dataset and the CBU-balanced dataset to evaluate the efficiency of resampling methods."
   ]
  },
  {
   "cell_type": "markdown",
   "id": "4a4db233",
   "metadata": {},
   "source": [
    "### **C.1 EVALUATING MODELS**\n",
    "\n",
    "**LOGISTIC REGRESSION on GMM-balanced Dataset**"
   ]
  },
  {
   "cell_type": "code",
   "execution_count": 17,
   "id": "8e516ffd",
   "metadata": {},
   "outputs": [
    {
     "name": "stdout",
     "output_type": "stream",
     "text": [
      "\n",
      "Model (After GMM-balanced synthetic data generation) Performance:\n",
      "              precision    recall  f1-score   support\n",
      "\n",
      "           0       1.00      0.98      0.99     56864\n",
      "           1       0.09      0.90      0.16        98\n",
      "\n",
      "    accuracy                           0.98     56962\n",
      "   macro avg       0.54      0.94      0.57     56962\n",
      "weighted avg       1.00      0.98      0.99     56962\n",
      "\n",
      "{'Precision': 0.08627450980392157, 'Recall': 0.8979591836734694, 'F1': 0.15742397137745975}\n"
     ]
    }
   ],
   "source": [
    "model = LogisticRegression(max_iter=1000, solver='lbfgs', random_state=42)\n",
    "model.fit(X_train_gmm, y_train_gmm)\n",
    "y_pred = model.predict(X_test)\n",
    "\n",
    "print(\"\\nModel (After GMM-balanced synthetic data generation) Performance:\")\n",
    "print(classification_report(y_test, y_pred))\n",
    "\n",
    "precision, recall, f1, _ = precision_recall_fscore_support(y_test, y_pred, average=None,labels=[1])\n",
    "gmm_metrics = {'Precision': precision[0], 'Recall': recall[0], 'F1': f1[0]}\n",
    "print(gmm_metrics)"
   ]
  },
  {
   "cell_type": "markdown",
   "id": "bb994ad6",
   "metadata": {},
   "source": [
    "**LOGISTIC REGRESSION on CBU-Rebalanced Dataset**"
   ]
  },
  {
   "cell_type": "code",
   "execution_count": 29,
   "id": "5ce094b6",
   "metadata": {},
   "outputs": [
    {
     "name": "stdout",
     "output_type": "stream",
     "text": [
      "\n",
      "Model (After CBU Rebalancing) Performance:\n",
      "              precision    recall  f1-score   support\n",
      "\n",
      "           0       1.00      0.94      0.97     56864\n",
      "           1       0.03      0.89      0.05        98\n",
      "\n",
      "    accuracy                           0.94     56962\n",
      "   macro avg       0.51      0.91      0.51     56962\n",
      "weighted avg       1.00      0.94      0.97     56962\n",
      "\n",
      "{'Precision': 0.02561083308801884, 'Recall': 0.8877551020408163, 'F1': 0.04978540772532189}\n"
     ]
    }
   ],
   "source": [
    "model1 =LogisticRegression(max_iter=1000, solver='lbfgs', random_state=42)\n",
    "model1.fit(X_train_cbu_gmm, y_train_cbu_gmm)\n",
    "y_pred1 = model1.predict(X_test)\n",
    "\n",
    "print(\"\\nModel (After CBU Rebalancing) Performance:\")\n",
    "print(classification_report(y_test, y_pred1))\n",
    "\n",
    "precision1, recall1, f1_1, _ = precision_recall_fscore_support(y_test, y_pred1, average=None,labels=[1])\n",
    "cbu_metrics = {'Precision': precision1[0], 'Recall': recall1[0], 'F1': f1_1[0]}\n",
    "print(cbu_metrics)"
   ]
  },
  {
   "cell_type": "markdown",
   "id": "4b0566b5",
   "metadata": {},
   "source": [
    "### **C.2 PERFORMANCE COMPARISON**"
   ]
  },
  {
   "cell_type": "code",
   "execution_count": 30,
   "id": "2d7e5e74",
   "metadata": {},
   "outputs": [
    {
     "data": {
      "text/html": [
       "<div>\n",
       "<style scoped>\n",
       "    .dataframe tbody tr th:only-of-type {\n",
       "        vertical-align: middle;\n",
       "    }\n",
       "\n",
       "    .dataframe tbody tr th {\n",
       "        vertical-align: top;\n",
       "    }\n",
       "\n",
       "    .dataframe thead th {\n",
       "        text-align: right;\n",
       "    }\n",
       "</style>\n",
       "<table border=\"1\" class=\"dataframe\">\n",
       "  <thead>\n",
       "    <tr style=\"text-align: right;\">\n",
       "      <th></th>\n",
       "      <th>Baseline</th>\n",
       "      <th>GMM</th>\n",
       "      <th>CBU</th>\n",
       "    </tr>\n",
       "  </thead>\n",
       "  <tbody>\n",
       "    <tr>\n",
       "      <th>Precision</th>\n",
       "      <td>0.828947</td>\n",
       "      <td>0.086275</td>\n",
       "      <td>0.025611</td>\n",
       "    </tr>\n",
       "    <tr>\n",
       "      <th>Recall</th>\n",
       "      <td>0.642857</td>\n",
       "      <td>0.897959</td>\n",
       "      <td>0.887755</td>\n",
       "    </tr>\n",
       "    <tr>\n",
       "      <th>F1</th>\n",
       "      <td>0.724138</td>\n",
       "      <td>0.157424</td>\n",
       "      <td>0.049785</td>\n",
       "    </tr>\n",
       "  </tbody>\n",
       "</table>\n",
       "</div>"
      ],
      "text/plain": [
       "           Baseline       GMM       CBU\n",
       "Precision  0.828947  0.086275  0.025611\n",
       "Recall     0.642857  0.897959  0.887755\n",
       "F1         0.724138  0.157424  0.049785"
      ]
     },
     "execution_count": 30,
     "metadata": {},
     "output_type": "execute_result"
    }
   ],
   "source": [
    "results_df = pd.DataFrame({\n",
    "    'Baseline': baseline_metrics,\n",
    "    'GMM': gmm_metrics,\n",
    "    'CBU': cbu_metrics\n",
    "})\n",
    "results_df"
   ]
  },
  {
   "cell_type": "code",
   "execution_count": 31,
   "id": "ccb6ac1e",
   "metadata": {},
   "outputs": [
    {
     "data": {
      "image/png": "[encoded data removed]",
      "text/plain": [
       "<Figure size 1500x500 with 3 Axes>"
      ]
     },
     "metadata": {},
     "output_type": "display_data"
    }
   ],
   "source": [
    "# Visualization\n",
    "fig, axes = plt.subplots(1, 3, figsize=(15, 5))\n",
    "metrics = ['Precision', 'Recall', 'F1']\n",
    "\n",
    "for i, metric in enumerate(metrics):\n",
    "    results_df.loc[metric].plot(kind='bar', ax=axes[i], color=['C0', 'C1', 'C2'])\n",
    "    axes[i].set_title(f'{metric} Comparison')\n",
    "    axes[i].set_ylabel(metric)\n",
    "    axes[i].set_xlabel('Method')\n",
    "    axes[i].tick_params(axis='x', rotation=45)\n",
    "\n",
    "fig.suptitle('Final Results Comparison: Baseline vs GMM vs CBU', fontsize=18)\n",
    "patch1 = mpatches.Patch(color='C0', label='Baseline')\n",
    "patch2 = mpatches.Patch(color='C1', label='GMM')\n",
    "patch3 = mpatches.Patch(color='C2', label='CBU')\n",
    "fig.legend(handles=[patch1, patch2, patch3], loc = 'lower center', ncol=3, labelspacing=1, bbox_to_anchor = (0.5, -0.10), fontsize=15)\n",
    "plt.tight_layout()\n",
    "plt.show()"
   ]
  },
  {
   "cell_type": "markdown",
   "id": "bdb93ac3",
   "metadata": {},
   "source": [
    "### **C.3 CONCLUSIONS AND RECCOMENDATIONS**"
   ]
  },
  {
   "cell_type": "markdown",
   "id": "bdff0d80",
   "metadata": {},
   "source": [
    "- **Precision** : Synthetic data generation using GMM  and CBU based resampling decrease the precision a lot compared to baseline. That results in hgher number of false positives. But in fraud detection precision is not a very important factor.\n",
    "- **F1 score** : Synthetic data generation using GMM  and CBU based resampling decrease the F1 score a lot compared to baseline..\n",
    "- **Recall** :  Synthetic data generation using GMM improves recall drastically from 0.65 (baseline) to 0.89, CBU also performs similarly with a recall of 0.88. This decrease the number of false negatives and is thus a crucial improvement in fraud detection as it does not allow fraudulent transactions to pass undetected."
   ]
  },
  {
   "cell_type": "markdown",
   "id": "96182147",
   "metadata": {},
   "source": [
    "**RECCOMENDATION**\n",
    "\n",
    "GMM based synthetic data generation improves the recall significantly preventing fraudulent transactions from going past undetected. Eveenthough this is at the cost of precision compared to baseline, it is worth it. Eventhough CBU based resampling gives similar recall performance it has much lower precision than GMM based synthetic data generation.\n",
    "\n",
    "I would reccomend **GMM for synthetic data generation** for the case of fraudulent transaction detection."
   ]
  }
 ],
 "metadata": {
  "kernelspec": {
   "display_name": "Python 3",
   "language": "python",
   "name": "python3"
  },
  "language_info": {
   "codemirror_mode": {
    "name": "ipython",
    "version": 3
   },
   "file_extension": ".py",
   "mimetype": "text/x-python",
   "name": "python",
   "nbconvert_exporter": "python",
   "pygments_lexer": "ipython3",
   "version": "3.12.3"
  }
 },
 "nbformat": 4,
 "nbformat_minor": 5
}
